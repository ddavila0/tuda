{
 "cells": [
  {
   "cell_type": "code",
   "execution_count": 154,
   "metadata": {},
   "outputs": [],
   "source": [
    "# General\n",
    "from random import randint\n",
    "import json\n",
    "import requests\n",
    "import numpy as np\n",
    "import pandas as pd\n",
    "pd.options.mode.chained_assignment = None  # default='warn'\n",
    "# Data Handling\n",
    "from pyarrow import parquet as pq\n",
    "from datetime import datetime as dt\n",
    "from datetime import timezone\n",
    "from dateutil import parser\n",
    "import pickle\n",
    "# Plotting\n",
    "import matplotlib.pyplot as plt\n",
    "# Machine Learning\n",
    "from sklearn.ensemble import GradientBoostingClassifier\n",
    "from sklearn.model_selection import train_test_split\n",
    "from sklearn.metrics import roc_curve\n",
    "import xgboost as xgb #BDT"
   ]
  },
  {
   "cell_type": "code",
   "execution_count": 155,
   "metadata": {},
   "outputs": [],
   "source": [
    "# Global dates\n",
    "def FileDate(minDString, maxDString):\n",
    "    MINDATE_DT = parser.parse(minDString)\n",
    "    MINDATE_STR = MINDATE_DT.strftime(\"%m-%d-%Y\")\n",
    "    MINDATE_TS = MINDATE_DT.timestamp()\n",
    "    MAXDATE_DT = parser.parse(maxDString)\n",
    "    MAXDATE_STR = MAXDATE_DT.strftime(\"%m-%d-%Y\")\n",
    "    MAXDATE_TS = MAXDATE_DT.timestamp()\n",
    "    FILEDATE = \"\"\n",
    "\n",
    "    if (MAXDATE_TS < MINDATE_TS):\n",
    "        print(\"ERROR: Given dates are not in chronological order.\")\n",
    "        return\n",
    "\n",
    "    if MINDATE_DT and MAXDATE_DT:\n",
    "        same_m = MINDATE_DT.strftime(\"%m\") == MAXDATE_DT.strftime(\"%m\")\n",
    "        same_d = MINDATE_DT.strftime(\"%d\") == MAXDATE_DT.strftime(\"%d\")\n",
    "        same_y = MINDATE_DT.strftime(\"%Y\") == MAXDATE_DT.strftime(\"%Y\")\n",
    "        if same_m and same_d and same_y:\n",
    "            FILEDATE = MINDATE_STR\n",
    "        elif same_m and same_y:\n",
    "            FILEDATE = \"{0}-{1}to{2}-{3}\".format(MINDATE_DT.strftime(\"%m\"),\n",
    "                                                 MINDATE_DT.strftime(\"%d\"),\n",
    "                                                 MAXDATE_DT.strftime(\"%d\"),\n",
    "                                                 MINDATE_DT.strftime(\"%Y\"))\n",
    "        elif same_y:\n",
    "            FILEDATE = \"{0}-{1}to{2}\".format(MINDATE_DT.strftime(\"%m\"),\n",
    "                                             MINDATE_DT.strftime(\"%d\"),\n",
    "                                             MAXDATE_STR)\n",
    "        else:\n",
    "            FILEDATE = \"{0}to{1}\".format(MINDATE_STR, MAXDATE_STR)\n",
    "            \n",
    "    return FILEDATE"
   ]
  },
  {
   "cell_type": "markdown",
   "metadata": {},
   "source": [
    "## 1. Retrieval"
   ]
  },
  {
   "cell_type": "markdown",
   "metadata": {},
   "source": [
    "#### 1.1 Get XRootD data"
   ]
  },
  {
   "cell_type": "code",
   "execution_count": 156,
   "metadata": {},
   "outputs": [],
   "source": [
    "# Get parquet files\n",
    "xRootD_fDate = FileDate(\"Jun 1 00:00:00 UTC 2019\", \"Jun 30 23:59:59 UTC 2019\")\n",
    "xRootD_ds = pq.ParquetDataset(\"parquet/XRootD_\"+xRootD_fDate)\n",
    "xRootD_table = xRootD_ds.read()\n",
    "\n",
    "# Convert to pandas dataframe\n",
    "xRootD_df = xRootD_table.to_pandas()"
   ]
  },
  {
   "cell_type": "markdown",
   "metadata": {},
   "source": [
    "#### 1.2 Get ClassAds data"
   ]
  },
  {
   "cell_type": "code",
   "execution_count": 157,
   "metadata": {},
   "outputs": [],
   "source": [
    "# Get parquet files\n",
    "classAds_fDate = FileDate(\"Jun 23 00:00:00 UTC 2019\", \"Jun 29 23:59:59 UTC 2019\")\n",
    "classAds_ds = pq.ParquetDataset(\"parquet/ClassAds_\"+classAds_fDate)\n",
    "classAds_table = classAds_ds.read()\n",
    "\n",
    "# Convert to pandas dataframe\n",
    "classAds_df = classAds_table.to_pandas()"
   ]
  },
  {
   "cell_type": "markdown",
   "metadata": {},
   "source": [
    "## 2. Preprocessing"
   ]
  },
  {
   "cell_type": "markdown",
   "metadata": {},
   "source": [
    "#### 2.1 Add bookkeeping columns to XRootD dataframe"
   ]
  },
  {
   "cell_type": "code",
   "execution_count": 158,
   "metadata": {},
   "outputs": [],
   "source": [
    "workflow_idFront = (xRootD_df.app_info.str.split('/').str[-1]\n",
    "                                      .str.split(':').str[:2]\n",
    "                                      .str.join('_')\n",
    "                   ) # Front half of workflow_id\n",
    "workflow_idBack = (xRootD_df.app_info.str.split('/').str[-1]\n",
    "                                     .str.split(':').str[2:]\n",
    "                                     .str.join('_')\n",
    "                  ) # Back half of workflow_id\n",
    "xRootD_df[\"workflow_id\"] = workflow_idFront.map(str)+\":\"+workflow_idBack\n",
    "xRootD_df[\"crab_id\"] = xRootD_df.app_info.str.split('_').str[0]\n",
    "xRootD_df[\"job_id\"] = xRootD_df.crab_id.map(str)+\"/\"+xRootD_df.workflow_id\n",
    "xRootD_df[\"start_datetime\"] = pd.to_datetime(xRootD_df.start_time, unit=\"ms\")"
   ]
  },
  {
   "cell_type": "markdown",
   "metadata": {},
   "source": [
    "#### 2.2 Add bookkeeping columns to ClassAds dataframe"
   ]
  },
  {
   "cell_type": "code",
   "execution_count": 159,
   "metadata": {},
   "outputs": [],
   "source": [
    "classAds_df[\"workflow_id\"] = classAds_df.workflow_id.map(str)+\"_\"+classAds_df.retries.astype(str)\n",
    "classAds_df[\"job_id\"] = classAds_df.crab_id.map(str)+\"/\"+classAds_df.workflow_id\n",
    "classAds_df[\"start_datetime\"] = pd.to_datetime(classAds_df.start_time, unit=\"ms\")"
   ]
  },
  {
   "cell_type": "markdown",
   "metadata": {},
   "source": [
    "#### 2.2 Make XRootD preselection"
   ]
  },
  {
   "cell_type": "code",
   "execution_count": 160,
   "metadata": {},
   "outputs": [],
   "source": [
    "# Require real crab jobs\n",
    "xRootD_df = xRootD_df[(~xRootD_df.crab_id.isna()) & (xRootD_df.job_id != \"/:\")]"
   ]
  },
  {
   "cell_type": "code",
   "execution_count": 164,
   "metadata": {},
   "outputs": [
    {
     "name": "stdout",
     "output_type": "stream",
     "text": [
      "13.53% XRootD jobs are recorded in ClassAds\n"
     ]
    }
   ],
   "source": [
    "xRootD_df[\"inClassAds\"] = xRootD_df.job_id.isin(list(classAds_df.job_id.values))\n",
    "# Print percent coverage\n",
    "xRootD_inClassAds = xRootD_df.inClassAds.value_counts()\n",
    "print(\"{0:.2f}%\".format(xRootD_inClassAds[True]/(xRootD_inClassAds[True]+xRootD_inClassAds[False])*100),\n",
    "      \"XRootD jobs are recorded in ClassAds\")"
   ]
  },
  {
   "cell_type": "markdown",
   "metadata": {},
   "source": [
    "#### 2.3 Make ClassAds preselection"
   ]
  },
  {
   "cell_type": "code",
   "execution_count": 161,
   "metadata": {},
   "outputs": [],
   "source": [
    "# Require at UCSD or CalTech exclusively\n",
    "classAds_df = classAds_df[classAds_df.site.isin([\"T2_US_UCSD\", \"T2_US_Caltech\"])]\n",
    "# Require real crab jobs\n",
    "classAds_df = classAds_df[(~classAds_df.crab_id.isna()) & (classAds_df.job_id != \"/\")]"
   ]
  },
  {
   "cell_type": "code",
   "execution_count": 162,
   "metadata": {},
   "outputs": [
    {
     "name": "stdout",
     "output_type": "stream",
     "text": [
      "83.83% ClassAds jobs are recorded in XRootD\n"
     ]
    }
   ],
   "source": [
    "classAds_df[\"inXRootD\"] = classAds_df.job_id.isin(list(xRootD_df.job_id.values))\n",
    "# Print percent coverage\n",
    "classAds_inXRootD = classAds_df.inXRootD.value_counts()\n",
    "print(\"{0:.2f}%\".format(classAds_inXRootD[True]/(classAds_inXRootD[True]+classAds_inXRootD[False])*100),\n",
    "      \"ClassAds jobs are recorded in XRootD\")"
   ]
  },
  {
   "cell_type": "markdown",
   "metadata": {},
   "source": [
    "#### 2.4 Add training-related columns to ClassAds"
   ]
  },
  {
   "cell_type": "code",
   "execution_count": 163,
   "metadata": {},
   "outputs": [
    {
     "name": "stdout",
     "output_type": "stream",
     "text": [
      "Converting dataset values to numerical values...\n",
      "Converting workflow_id values to numerical values...\n",
      "Converting crab_id values to numerical values...\n",
      "Converting schedd_name values to numerical values...\n",
      "Converting primaryDataset_primary values to numerical values...\n",
      "Converting primaryDataset_processed values to numerical values...\n",
      "Converting primaryDataTier values to numerical values...\n",
      "Converting task values to numerical values...\n",
      "Converting user_hn values to numerical values...\n"
     ]
    }
   ],
   "source": [
    "lookups = {}\n",
    "excludes = [\"job_id\", \"site\"]\n",
    "keys = classAds_df.keys()\n",
    "for k, dtype in enumerate(classAds_df.dtypes):\n",
    "    if dtype == \"object\":\n",
    "        key = keys[k]\n",
    "        if key not in excludes:\n",
    "            print(\"Converting {} values to numerical values...\".format(key))\n",
    "            excludes.append(key)\n",
    "            nkey = key+\"NumId\" if \"_\" in key else key+\"_numId\"\n",
    "            lookups[key] = list(classAds_df[key].unique())\n",
    "            classAds_df[nkey] = list(map(lambda x: lookups[key].index(x), classAds_df[key].values))"
   ]
  },
  {
   "cell_type": "markdown",
   "metadata": {},
   "source": [
    "## 3. Select Features for Training"
   ]
  },
  {
   "cell_type": "code",
   "execution_count": 165,
   "metadata": {},
   "outputs": [
    {
     "name": "stdout",
     "output_type": "stream",
     "text": [
      "21 Selected Features:\n",
      "cpuTime, cpus, crab_idNumId, dataset_numId, exitCode, primaryDataTier_numId, primaryDataset_primaryNumId, primaryDataset_processedNumId, read_bytes, read_ops, read_segs, read_time, read_vops, retries, schedd_nameNumId, task_numId, user_hnNumId, walltime, workflow_idNumId, write_bytes, write_time\n",
      "\n",
      "14 Excluded Features.\n"
     ]
    }
   ],
   "source": [
    "excludes += [\"inXRootD\", \"start_datetime\", \"start_time\"]\n",
    "features = sorted(list(set(classAds_df.columns.values)-set(excludes)))\n",
    "\n",
    "# Display selected features\n",
    "print(\"{0} Selected Features:\\n{1}\\n\".format(len(features), \", \".join(features)))\n",
    "# Display excluded features\n",
    "print(\"{0} Excluded Features.\".format(len(excludes)))"
   ]
  },
  {
   "cell_type": "code",
   "execution_count": 166,
   "metadata": {},
   "outputs": [
    {
     "data": {
      "text/plain": [
       "cpuTime                          float64\n",
       "cpus                               int64\n",
       "crab_idNumId                       int64\n",
       "dataset_numId                      int64\n",
       "exitCode                           int64\n",
       "primaryDataTier_numId              int64\n",
       "primaryDataset_primaryNumId        int64\n",
       "primaryDataset_processedNumId      int64\n",
       "read_bytes                       float64\n",
       "read_ops                         float64\n",
       "read_segs                        float64\n",
       "read_time                        float64\n",
       "read_vops                        float64\n",
       "retries                            int64\n",
       "schedd_nameNumId                   int64\n",
       "task_numId                         int64\n",
       "user_hnNumId                       int64\n",
       "walltime                         float64\n",
       "workflow_idNumId                   int64\n",
       "write_bytes                      float64\n",
       "write_time                       float64\n",
       "dtype: object"
      ]
     },
     "execution_count": 166,
     "metadata": {},
     "output_type": "execute_result"
    }
   ],
   "source": [
    "# Confirm that selected features are properly typed\n",
    "classAds_df[features].dtypes"
   ]
  },
  {
   "cell_type": "code",
   "execution_count": 167,
   "metadata": {},
   "outputs": [
    {
     "name": "stderr",
     "output_type": "stream",
     "text": [
      "/net/top/homes/jguiang/.virtualenvs/tuda-bdt/lib/python3.6/site-packages/numpy/lib/histograms.py:778: RuntimeWarning: Converting input from bool to <class 'numpy.uint8'> for compatibility.\n",
      "  a, weights = _ravel_and_check_weights(a, weights)\n"
     ]
    },
    {
     "data": {
      "image/png": "[encoded data removed]",
      "text/plain": [
       "<Figure size 1080x1080 with 25 Axes>"
      ]
     },
     "metadata": {
      "needs_background": "light"
     },
     "output_type": "display_data"
    }
   ],
   "source": [
    "# Plot feature shapes\n",
    "fig, axes = plt.subplots(5,5,figsize=(15,15))\n",
    "toPlot = classAds_df[features+[\"inXRootD\"]]\n",
    "ax = toPlot[(toPlot.inXRootD)].hist(ax=axes.flatten()[:len(toPlot.keys())],\n",
    "                                    alpha=0.5, color=\"C0\", ylabelsize=0, \n",
    "                                    density=True)\n",
    "ax = toPlot[~(toPlot.inXRootD)].hist(ax=axes.flatten()[:len(toPlot.keys())], \n",
    "                                     alpha=0.5, color=\"C3\", ylabelsize=0, \n",
    "                                     density=True)"
   ]
  },
  {
   "cell_type": "markdown",
   "metadata": {},
   "source": [
    "## 4. Train BDT"
   ]
  },
  {
   "cell_type": "markdown",
   "metadata": {},
   "source": [
    "#### 4.1 Prepare data for training"
   ]
  },
  {
   "cell_type": "code",
   "execution_count": 168,
   "metadata": {},
   "outputs": [
    {
     "name": "stdout",
     "output_type": "stream",
     "text": [
      "Training Data: (92016, 35)\n",
      "Testing Data: (30672, 35)\n"
     ]
    }
   ],
   "source": [
    "# Split dataframe for training and testing\n",
    "dummyWeights = np.ones(len(classAds_df.inXRootD)) # in place of dfs[\"weights\"]\n",
    "x_train, x_test, y_train, y_test, weights_train, weights_test = train_test_split(\n",
    "                                                                                classAds_df,\n",
    "                                                                                (~classAds_df.inXRootD),\n",
    "                                                                                dummyWeights,\n",
    "                                                                                test_size=0.25, random_state=42,\n",
    "                                                                                )\n",
    "print(\"Training Data: {}\".format(x_train.shape))\n",
    "print(\"Testing Data: {}\".format(x_test.shape))"
   ]
  },
  {
   "cell_type": "markdown",
   "metadata": {},
   "source": [
    "#### 4.2 Set up BDT"
   ]
  },
  {
   "cell_type": "code",
   "execution_count": 169,
   "metadata": {},
   "outputs": [
    {
     "name": "stderr",
     "output_type": "stream",
     "text": [
      "/net/top/homes/jguiang/.virtualenvs/tuda-bdt/lib/python3.6/site-packages/xgboost/core.py:587: FutureWarning: Series.base is deprecated and will be removed in a future version\n",
      "  if getattr(data, 'base', None) is not None and \\\n"
     ]
    }
   ],
   "source": [
    "# BDT Input\n",
    "dtrain = xgb.DMatrix(x_train[features], label=y_train, weight=np.abs(weights_train))\n",
    "dtest = xgb.DMatrix(x_test[features], label=y_test, weight=np.abs(weights_test))\n",
    "evallist = [(dtrain,'train'), (dtest,'eval')]\n",
    "\n",
    "# BDT Parameters Setup\n",
    "param = {}\n",
    "param['objective'] = 'binary:logistic'\n",
    "\n",
    "# BDT Knobs (Parameters)\n",
    "num_round = 200                 # Number of training rounds\n",
    "param['eta'] = 0.1              # Step size shrinkage (alias: learning_rate)\n",
    "param['max_depth'] = 3          # Max. depth of tree: larger = more complex = more prone to overfitting\n",
    "param['verbosity'] = 1          # 0 (silent), 1 (warning), 2 (info), 3 (debug)\n",
    "param['nthread'] = 8            # Number of parallel threads\n",
    "param['eval_metric'] = \"auc\"    # Evaluation metrics for validation data. 'auc' = Area Under the Curve\n",
    "param['subsample'] = 0.6        # Subsample ratio of the training instances\n",
    "param['alpha'] = 8.0            # L1 regularization term on weights: Larger = more conservative\n",
    "param['gamma'] = 2.0            # Min. loss rediction to make leaf (alias: min_split_loss)\n",
    "param['lambda'] = 1.0           # L2 regularization term on weights: Larger = more conservative\n",
    "param['min_child_weight'] = 1.0 # Minimum sum of instance weight (hessian) needed in a child\n",
    "param['colsample_bytree'] = 1.0 # The subsample ratio of columns when constructing each tree"
   ]
  },
  {
   "cell_type": "code",
   "execution_count": 170,
   "metadata": {},
   "outputs": [],
   "source": [
    "# Get pos/neg weights\n",
    "sumw_pos = np.abs(dtrain.get_weight()[dtrain.get_label()==1]).sum()\n",
    "sumw_neg = np.abs(dtrain.get_weight()[dtrain.get_label()==0]).sum()\n",
    "param[\"scale_pos_weight\"] = sumw_neg/sumw_pos"
   ]
  },
  {
   "cell_type": "markdown",
   "metadata": {},
   "source": [
    "#### 4.3 Train BDT"
   ]
  },
  {
   "cell_type": "code",
   "execution_count": 171,
   "metadata": {},
   "outputs": [
    {
     "name": "stdout",
     "output_type": "stream",
     "text": [
      "[0]\ttrain-auc:0.72874\teval-auc:0.726766\n",
      "Multiple eval metrics have been passed: 'eval-auc' will be used for early stopping.\n",
      "\n",
      "Will train until eval-auc hasn't improved in 15 rounds.\n",
      "[1]\ttrain-auc:0.741178\teval-auc:0.741757\n",
      "[2]\ttrain-auc:0.740847\teval-auc:0.741022\n",
      "[3]\ttrain-auc:0.754358\teval-auc:0.756269\n",
      "[4]\ttrain-auc:0.780091\teval-auc:0.780355\n",
      "[5]\ttrain-auc:0.786854\teval-auc:0.786859\n",
      "[6]\ttrain-auc:0.791697\teval-auc:0.79064\n",
      "[7]\ttrain-auc:0.798343\teval-auc:0.79666\n",
      "[8]\ttrain-auc:0.804131\teval-auc:0.80255\n",
      "[9]\ttrain-auc:0.809027\teval-auc:0.808385\n",
      "[10]\ttrain-auc:0.81257\teval-auc:0.811923\n",
      "[11]\ttrain-auc:0.821089\teval-auc:0.821732\n",
      "[12]\ttrain-auc:0.825309\teval-auc:0.825788\n",
      "[13]\ttrain-auc:0.828099\teval-auc:0.828553\n",
      "[14]\ttrain-auc:0.829871\teval-auc:0.830313\n",
      "[15]\ttrain-auc:0.830982\teval-auc:0.831211\n",
      "[16]\ttrain-auc:0.835839\teval-auc:0.836291\n",
      "[17]\ttrain-auc:0.83709\teval-auc:0.837759\n",
      "[18]\ttrain-auc:0.839592\teval-auc:0.84016\n",
      "[19]\ttrain-auc:0.841427\teval-auc:0.842254\n",
      "[20]\ttrain-auc:0.842667\teval-auc:0.843589\n",
      "[21]\ttrain-auc:0.843498\teval-auc:0.844699\n",
      "[22]\ttrain-auc:0.845531\teval-auc:0.846469\n",
      "[23]\ttrain-auc:0.848627\teval-auc:0.84948\n",
      "[24]\ttrain-auc:0.849011\teval-auc:0.849826\n",
      "[25]\ttrain-auc:0.849759\teval-auc:0.850386\n",
      "[26]\ttrain-auc:0.850616\teval-auc:0.851432\n",
      "[27]\ttrain-auc:0.852357\teval-auc:0.853205\n",
      "[28]\ttrain-auc:0.854737\teval-auc:0.855398\n",
      "[29]\ttrain-auc:0.855076\teval-auc:0.855462\n",
      "[30]\ttrain-auc:0.856948\teval-auc:0.857094\n",
      "[31]\ttrain-auc:0.858811\teval-auc:0.858872\n",
      "[32]\ttrain-auc:0.860586\teval-auc:0.860658\n",
      "[33]\ttrain-auc:0.8619\teval-auc:0.861837\n",
      "[34]\ttrain-auc:0.862455\teval-auc:0.862468\n",
      "[35]\ttrain-auc:0.863211\teval-auc:0.863196\n",
      "[36]\ttrain-auc:0.863826\teval-auc:0.86381\n",
      "[37]\ttrain-auc:0.865075\teval-auc:0.864896\n",
      "[38]\ttrain-auc:0.865718\teval-auc:0.865811\n",
      "[39]\ttrain-auc:0.86622\teval-auc:0.866179\n",
      "[40]\ttrain-auc:0.866852\teval-auc:0.866774\n",
      "[41]\ttrain-auc:0.867171\teval-auc:0.866987\n",
      "[42]\ttrain-auc:0.867889\teval-auc:0.867632\n",
      "[43]\ttrain-auc:0.868174\teval-auc:0.867822\n",
      "[44]\ttrain-auc:0.868679\teval-auc:0.868307\n",
      "[45]\ttrain-auc:0.869479\teval-auc:0.869049\n",
      "[46]\ttrain-auc:0.870706\teval-auc:0.870072\n",
      "[47]\ttrain-auc:0.871157\teval-auc:0.870452\n",
      "[48]\ttrain-auc:0.872377\teval-auc:0.871563\n",
      "[49]\ttrain-auc:0.87298\teval-auc:0.872192\n",
      "[50]\ttrain-auc:0.873728\teval-auc:0.872739\n",
      "[51]\ttrain-auc:0.874599\teval-auc:0.873396\n",
      "[52]\ttrain-auc:0.874946\teval-auc:0.873614\n",
      "[53]\ttrain-auc:0.875505\teval-auc:0.873952\n",
      "[54]\ttrain-auc:0.876053\teval-auc:0.874533\n",
      "[55]\ttrain-auc:0.877027\teval-auc:0.875357\n",
      "[56]\ttrain-auc:0.877544\teval-auc:0.875843\n",
      "[57]\ttrain-auc:0.878802\teval-auc:0.876977\n",
      "[58]\ttrain-auc:0.879044\teval-auc:0.877164\n",
      "[59]\ttrain-auc:0.879418\teval-auc:0.87756\n",
      "[60]\ttrain-auc:0.880146\teval-auc:0.878208\n",
      "[61]\ttrain-auc:0.880646\teval-auc:0.878874\n",
      "[62]\ttrain-auc:0.881588\teval-auc:0.879436\n",
      "[63]\ttrain-auc:0.882497\teval-auc:0.880365\n",
      "[64]\ttrain-auc:0.883241\teval-auc:0.881216\n",
      "[65]\ttrain-auc:0.883806\teval-auc:0.881795\n",
      "[66]\ttrain-auc:0.883941\teval-auc:0.881865\n",
      "[67]\ttrain-auc:0.88403\teval-auc:0.881976\n",
      "[68]\ttrain-auc:0.884574\teval-auc:0.88243\n",
      "[69]\ttrain-auc:0.885214\teval-auc:0.883346\n",
      "[70]\ttrain-auc:0.885522\teval-auc:0.883504\n",
      "[71]\ttrain-auc:0.88559\teval-auc:0.88351\n",
      "[72]\ttrain-auc:0.886292\teval-auc:0.884231\n",
      "[73]\ttrain-auc:0.88685\teval-auc:0.88476\n",
      "[74]\ttrain-auc:0.887368\teval-auc:0.885209\n",
      "[75]\ttrain-auc:0.887603\teval-auc:0.885474\n",
      "[76]\ttrain-auc:0.888048\teval-auc:0.885871\n",
      "[77]\ttrain-auc:0.88856\teval-auc:0.886514\n",
      "[78]\ttrain-auc:0.888671\teval-auc:0.886615\n",
      "[79]\ttrain-auc:0.888885\teval-auc:0.88683\n",
      "[80]\ttrain-auc:0.889185\teval-auc:0.887251\n",
      "[81]\ttrain-auc:0.889397\teval-auc:0.887453\n",
      "[82]\ttrain-auc:0.889501\teval-auc:0.887486\n",
      "[83]\ttrain-auc:0.889687\teval-auc:0.887623\n",
      "[84]\ttrain-auc:0.890649\teval-auc:0.888656\n",
      "[85]\ttrain-auc:0.891013\teval-auc:0.889122\n",
      "[86]\ttrain-auc:0.891238\teval-auc:0.889328\n",
      "[87]\ttrain-auc:0.891313\teval-auc:0.889341\n",
      "[88]\ttrain-auc:0.891856\teval-auc:0.889883\n",
      "[89]\ttrain-auc:0.892\teval-auc:0.890061\n",
      "[90]\ttrain-auc:0.892408\teval-auc:0.890421\n",
      "[91]\ttrain-auc:0.893297\teval-auc:0.891148\n",
      "[92]\ttrain-auc:0.893941\teval-auc:0.891708\n",
      "[93]\ttrain-auc:0.894265\teval-auc:0.89209\n",
      "[94]\ttrain-auc:0.894567\teval-auc:0.892333\n",
      "[95]\ttrain-auc:0.89479\teval-auc:0.892519\n",
      "[96]\ttrain-auc:0.895173\teval-auc:0.892845\n",
      "[97]\ttrain-auc:0.89536\teval-auc:0.892982\n",
      "[98]\ttrain-auc:0.895751\teval-auc:0.893395\n",
      "[99]\ttrain-auc:0.896086\teval-auc:0.893829\n",
      "[100]\ttrain-auc:0.896656\teval-auc:0.894245\n",
      "[101]\ttrain-auc:0.896804\teval-auc:0.894351\n",
      "[102]\ttrain-auc:0.897327\teval-auc:0.894781\n",
      "[103]\ttrain-auc:0.897642\teval-auc:0.895075\n",
      "[104]\ttrain-auc:0.898074\teval-auc:0.895548\n",
      "[105]\ttrain-auc:0.898429\teval-auc:0.895886\n",
      "[106]\ttrain-auc:0.898515\teval-auc:0.896011\n",
      "[107]\ttrain-auc:0.898819\teval-auc:0.896272\n",
      "[108]\ttrain-auc:0.899067\teval-auc:0.896548\n",
      "[109]\ttrain-auc:0.899345\teval-auc:0.896717\n",
      "[110]\ttrain-auc:0.899487\teval-auc:0.896798\n",
      "[111]\ttrain-auc:0.899833\teval-auc:0.897024\n",
      "[112]\ttrain-auc:0.900029\teval-auc:0.897256\n",
      "[113]\ttrain-auc:0.900434\teval-auc:0.897735\n",
      "[114]\ttrain-auc:0.900742\teval-auc:0.897945\n",
      "[115]\ttrain-auc:0.900811\teval-auc:0.898099\n",
      "[116]\ttrain-auc:0.90121\teval-auc:0.898396\n",
      "[117]\ttrain-auc:0.901213\teval-auc:0.898416\n",
      "[118]\ttrain-auc:0.90157\teval-auc:0.898668\n",
      "[119]\ttrain-auc:0.901994\teval-auc:0.899057\n",
      "[120]\ttrain-auc:0.902107\teval-auc:0.899139\n",
      "[121]\ttrain-auc:0.902545\teval-auc:0.899488\n",
      "[122]\ttrain-auc:0.902573\teval-auc:0.899517\n",
      "[123]\ttrain-auc:0.902931\teval-auc:0.900011\n",
      "[124]\ttrain-auc:0.902972\teval-auc:0.900104\n",
      "[125]\ttrain-auc:0.903102\teval-auc:0.900183\n",
      "[126]\ttrain-auc:0.903499\teval-auc:0.900459\n",
      "[127]\ttrain-auc:0.9036\teval-auc:0.900559\n",
      "[128]\ttrain-auc:0.903693\teval-auc:0.900634\n",
      "[129]\ttrain-auc:0.903917\teval-auc:0.900873\n",
      "[130]\ttrain-auc:0.904011\teval-auc:0.900973\n",
      "[131]\ttrain-auc:0.904313\teval-auc:0.90117\n",
      "[132]\ttrain-auc:0.90453\teval-auc:0.901384\n",
      "[133]\ttrain-auc:0.905076\teval-auc:0.901875\n",
      "[134]\ttrain-auc:0.905228\teval-auc:0.902002\n",
      "[135]\ttrain-auc:0.905363\teval-auc:0.902101\n",
      "[136]\ttrain-auc:0.905465\teval-auc:0.902187\n",
      "[137]\ttrain-auc:0.905666\teval-auc:0.902416\n",
      "[138]\ttrain-auc:0.905965\teval-auc:0.902766\n",
      "[139]\ttrain-auc:0.906089\teval-auc:0.902916\n",
      "[140]\ttrain-auc:0.906278\teval-auc:0.903078\n",
      "[141]\ttrain-auc:0.906392\teval-auc:0.903163\n",
      "[142]\ttrain-auc:0.906564\teval-auc:0.903268\n",
      "[143]\ttrain-auc:0.906886\teval-auc:0.903704\n",
      "[144]\ttrain-auc:0.907062\teval-auc:0.903805\n",
      "[145]\ttrain-auc:0.907319\teval-auc:0.90403\n",
      "[146]\ttrain-auc:0.907449\teval-auc:0.904148\n",
      "[147]\ttrain-auc:0.907623\teval-auc:0.904339\n",
      "[148]\ttrain-auc:0.907819\teval-auc:0.904502\n",
      "[149]\ttrain-auc:0.907917\teval-auc:0.904545\n",
      "[150]\ttrain-auc:0.908079\teval-auc:0.90466\n",
      "[151]\ttrain-auc:0.908212\teval-auc:0.904755\n",
      "[152]\ttrain-auc:0.908386\teval-auc:0.904934\n",
      "[153]\ttrain-auc:0.908682\teval-auc:0.905131\n",
      "[154]\ttrain-auc:0.908959\teval-auc:0.905355\n",
      "[155]\ttrain-auc:0.909286\teval-auc:0.905783\n",
      "[156]\ttrain-auc:0.909618\teval-auc:0.906217\n",
      "[157]\ttrain-auc:0.909796\teval-auc:0.906349\n",
      "[158]\ttrain-auc:0.909903\teval-auc:0.906475\n",
      "[159]\ttrain-auc:0.910172\teval-auc:0.906913\n",
      "[160]\ttrain-auc:0.91027\teval-auc:0.906965\n",
      "[161]\ttrain-auc:0.910553\teval-auc:0.907229\n",
      "[162]\ttrain-auc:0.910691\teval-auc:0.907285\n",
      "[163]\ttrain-auc:0.91095\teval-auc:0.907568\n",
      "[164]\ttrain-auc:0.91113\teval-auc:0.907718\n",
      "[165]\ttrain-auc:0.911305\teval-auc:0.90781\n",
      "[166]\ttrain-auc:0.911481\teval-auc:0.90802\n",
      "[167]\ttrain-auc:0.91166\teval-auc:0.908272\n",
      "[168]\ttrain-auc:0.91195\teval-auc:0.908472\n",
      "[169]\ttrain-auc:0.911978\teval-auc:0.908484\n",
      "[170]\ttrain-auc:0.912294\teval-auc:0.908789\n",
      "[171]\ttrain-auc:0.912467\teval-auc:0.908987\n",
      "[172]\ttrain-auc:0.912552\teval-auc:0.909063\n",
      "[173]\ttrain-auc:0.912702\teval-auc:0.909101\n",
      "[174]\ttrain-auc:0.912952\teval-auc:0.909278\n",
      "[175]\ttrain-auc:0.913192\teval-auc:0.909466\n",
      "[176]\ttrain-auc:0.913284\teval-auc:0.909556\n",
      "[177]\ttrain-auc:0.91334\teval-auc:0.909585\n",
      "[178]\ttrain-auc:0.913464\teval-auc:0.909698\n",
      "[179]\ttrain-auc:0.913603\teval-auc:0.909823\n",
      "[180]\ttrain-auc:0.913729\teval-auc:0.909914\n",
      "[181]\ttrain-auc:0.913874\teval-auc:0.910025\n",
      "[182]\ttrain-auc:0.914023\teval-auc:0.910254\n",
      "[183]\ttrain-auc:0.914268\teval-auc:0.910378\n",
      "[184]\ttrain-auc:0.914431\teval-auc:0.910499\n",
      "[185]\ttrain-auc:0.914554\teval-auc:0.910565\n",
      "[186]\ttrain-auc:0.914587\teval-auc:0.910634\n",
      "[187]\ttrain-auc:0.91472\teval-auc:0.910824\n",
      "[188]\ttrain-auc:0.9148\teval-auc:0.910867\n",
      "[189]\ttrain-auc:0.914859\teval-auc:0.910919\n",
      "[190]\ttrain-auc:0.915025\teval-auc:0.911026\n",
      "[191]\ttrain-auc:0.915114\teval-auc:0.911094\n",
      "[192]\ttrain-auc:0.915151\teval-auc:0.911112\n",
      "[193]\ttrain-auc:0.915227\teval-auc:0.911188\n",
      "[194]\ttrain-auc:0.915639\teval-auc:0.911553\n",
      "[195]\ttrain-auc:0.915909\teval-auc:0.911811\n",
      "[196]\ttrain-auc:0.916175\teval-auc:0.912006\n",
      "[197]\ttrain-auc:0.916288\teval-auc:0.912091\n",
      "[198]\ttrain-auc:0.916426\teval-auc:0.912163\n",
      "[199]\ttrain-auc:0.916559\teval-auc:0.912276\n"
     ]
    }
   ],
   "source": [
    "bst = xgb.train(param.items(), dtrain, num_round, evallist, early_stopping_rounds=15, verbose_eval=False)"
   ]
  },
  {
   "cell_type": "markdown",
   "metadata": {},
   "source": [
    "## 5. Evaluate Performance"
   ]
  },
  {
   "cell_type": "markdown",
   "metadata": {},
   "source": [
    "#### 5.1 Plot ROC curves"
   ]
  },
  {
   "cell_type": "code",
   "execution_count": 172,
   "metadata": {},
   "outputs": [],
   "source": [
    "# Get predictions\n",
    "preds_train = bst.predict(xgb.DMatrix(x_train[features]))\n",
    "preds_test = bst.predict(xgb.DMatrix(x_test[features]))"
   ]
  },
  {
   "cell_type": "code",
   "execution_count": 173,
   "metadata": {},
   "outputs": [
    {
     "data": {
      "image/png": "[encoded data removed]",
      "text/plain": [
       "<Figure size 1152x432 with 2 Axes>"
      ]
     },
     "metadata": {
      "needs_background": "light"
     },
     "output_type": "display_data"
    }
   ],
   "source": [
    "# Suplots setup\n",
    "fig, axes = plt.subplots(1,2,figsize=(16,6))\n",
    "\n",
    "# Subplot 1: Plot ROC curves\n",
    "plt.subplot(1, 2, 1)\n",
    "# Test ROC Curve\n",
    "fpr, tpr, thresh = roc_curve(y_test,preds_test)\n",
    "plt.plot(fpr, tpr, label=\"test set (AUC = {:.2f})\".format(np.trapz(tpr,fpr)));\n",
    "# Train ROC Curve\n",
    "fpr, tpr, thresh = roc_curve(y_train,preds_train)\n",
    "plt.plot(fpr, tpr, label=\"train set (AUC = {:.2f})\".format(np.trapz(tpr,fpr)));\n",
    "# Settings\n",
    "plt.xlabel(\"background efficiency\");\n",
    "plt.ylabel(\"signal efficiency\");\n",
    "plt.legend();\n",
    "\n",
    "# Subplot 2: Plot distribution of BDT outputs\n",
    "plt.subplot(1, 2, 2)\n",
    "bins = np.linspace(0.,1.,30)\n",
    "# Training - Background\n",
    "plt.hist(preds_train[y_train==0], weights=weights_train[y_train==0],\n",
    "         bins=bins, histtype=\"stepfilled\", alpha=0.45, \n",
    "         density=True, label=\"bkg, train\",color=\"C0\");\n",
    "# Training - Signal\n",
    "plt.hist(preds_train[y_train==1], weights=weights_train[y_train==1],\n",
    "         bins=bins, histtype=\"stepfilled\", alpha=0.45, \n",
    "         density=True, label=\"sig, train\",color=\"C3\");\n",
    "# Testing - Background\n",
    "plt.hist(preds_test[y_test==0], weights=weights_test[y_test==0],\n",
    "         bins=bins, histtype=\"step\", alpha=1.0, \n",
    "         density=True, label=\"bkg, test\",color=\"C0\",\n",
    "         lw=1.5, linestyle=\"solid\");\n",
    "# Testing - Signal\n",
    "plt.hist(preds_test[y_test==1], weights=weights_test[y_test==1],\n",
    "         bins=bins, histtype=\"step\", alpha=1.0, \n",
    "         density=True, label=\"sig, test\",color=\"C3\",\n",
    "         lw=1.5, linestyle=\"solid\");\n",
    "# Settings\n",
    "plt.xlabel(\"bdt output\");\n",
    "plt.legend(loc=2);"
   ]
  },
  {
   "cell_type": "markdown",
   "metadata": {},
   "source": [
    "#### 5.2 List top 10 features"
   ]
  },
  {
   "cell_type": "code",
   "execution_count": 174,
   "metadata": {},
   "outputs": [
    {
     "data": {
      "text/html": [
       "<div>\n",
       "<style scoped>\n",
       "    .dataframe tbody tr th:only-of-type {\n",
       "        vertical-align: middle;\n",
       "    }\n",
       "\n",
       "    .dataframe tbody tr th {\n",
       "        vertical-align: top;\n",
       "    }\n",
       "\n",
       "    .dataframe thead th {\n",
       "        text-align: right;\n",
       "    }\n",
       "</style>\n",
       "<table border=\"1\" class=\"dataframe\">\n",
       "  <thead>\n",
       "    <tr style=\"text-align: right;\">\n",
       "      <th></th>\n",
       "      <th>feature</th>\n",
       "      <th>gain</th>\n",
       "      <th>cover</th>\n",
       "      <th>weight</th>\n",
       "    </tr>\n",
       "  </thead>\n",
       "  <tbody>\n",
       "    <tr>\n",
       "      <th>0</th>\n",
       "      <td>read_segs</td>\n",
       "      <td>1081.768896</td>\n",
       "      <td>7959.609887</td>\n",
       "      <td>61</td>\n",
       "    </tr>\n",
       "    <tr>\n",
       "      <th>9</th>\n",
       "      <td>primaryDataTier_numId</td>\n",
       "      <td>554.354757</td>\n",
       "      <td>11387.972600</td>\n",
       "      <td>14</td>\n",
       "    </tr>\n",
       "    <tr>\n",
       "      <th>6</th>\n",
       "      <td>read_bytes</td>\n",
       "      <td>269.903455</td>\n",
       "      <td>3855.673499</td>\n",
       "      <td>53</td>\n",
       "    </tr>\n",
       "    <tr>\n",
       "      <th>5</th>\n",
       "      <td>read_ops</td>\n",
       "      <td>249.343025</td>\n",
       "      <td>10777.754111</td>\n",
       "      <td>54</td>\n",
       "    </tr>\n",
       "    <tr>\n",
       "      <th>4</th>\n",
       "      <td>read_time</td>\n",
       "      <td>246.321975</td>\n",
       "      <td>7962.333827</td>\n",
       "      <td>169</td>\n",
       "    </tr>\n",
       "    <tr>\n",
       "      <th>10</th>\n",
       "      <td>exitCode</td>\n",
       "      <td>234.881404</td>\n",
       "      <td>8771.189052</td>\n",
       "      <td>31</td>\n",
       "    </tr>\n",
       "    <tr>\n",
       "      <th>3</th>\n",
       "      <td>cpuTime</td>\n",
       "      <td>229.561070</td>\n",
       "      <td>7361.054544</td>\n",
       "      <td>185</td>\n",
       "    </tr>\n",
       "    <tr>\n",
       "      <th>8</th>\n",
       "      <td>workflow_idNumId</td>\n",
       "      <td>222.617408</td>\n",
       "      <td>7158.704874</td>\n",
       "      <td>98</td>\n",
       "    </tr>\n",
       "    <tr>\n",
       "      <th>1</th>\n",
       "      <td>dataset_numId</td>\n",
       "      <td>208.617686</td>\n",
       "      <td>6086.536148</td>\n",
       "      <td>54</td>\n",
       "    </tr>\n",
       "    <tr>\n",
       "      <th>19</th>\n",
       "      <td>task_numId</td>\n",
       "      <td>201.661424</td>\n",
       "      <td>1742.777699</td>\n",
       "      <td>9</td>\n",
       "    </tr>\n",
       "  </tbody>\n",
       "</table>\n",
       "</div>"
      ],
      "text/plain": [
       "                  feature         gain         cover  weight\n",
       "0               read_segs  1081.768896   7959.609887      61\n",
       "9   primaryDataTier_numId   554.354757  11387.972600      14\n",
       "6              read_bytes   269.903455   3855.673499      53\n",
       "5                read_ops   249.343025  10777.754111      54\n",
       "4               read_time   246.321975   7962.333827     169\n",
       "10               exitCode   234.881404   8771.189052      31\n",
       "3                 cpuTime   229.561070   7361.054544     185\n",
       "8        workflow_idNumId   222.617408   7158.704874      98\n",
       "1           dataset_numId   208.617686   6086.536148      54\n",
       "19             task_numId   201.661424   1742.777699       9"
      ]
     },
     "execution_count": 174,
     "metadata": {},
     "output_type": "execute_result"
    }
   ],
   "source": [
    "from functools import reduce\n",
    "\n",
    "# Get feature scores\n",
    "gainScore = pd.DataFrame(bst.get_score(importance_type='gain').items(), columns=['feature', 'gain'])\n",
    "coverScore = pd.DataFrame(bst.get_score(importance_type='cover').items(), columns=['feature', 'cover'])\n",
    "weightScore = pd.DataFrame(bst.get_score(importance_type='weight').items(), columns=['feature', 'weight'])\n",
    "# Merge scores into single dataframe along feature column\n",
    "scores = reduce(lambda left,right: pd.merge(left,right,on='feature'), [gainScore, coverScore, weightScore])\n",
    "# Display top ten features in 'gain'\n",
    "scores.sort_values('gain', ascending=False)[:10]"
   ]
  },
  {
   "cell_type": "code",
   "execution_count": 175,
   "metadata": {},
   "outputs": [
    {
     "data": {
      "image/png": "[encoded data removed]",
      "text/plain": [
       "<Figure size 1152x432 with 1 Axes>"
      ]
     },
     "metadata": {
      "needs_background": "light"
     },
     "output_type": "display_data"
    }
   ],
   "source": [
    "from matplotlib.colors import LogNorm\n",
    "\n",
    "# Suplots setup\n",
    "fig, axes = plt.subplots(1,1,figsize=(16,6))\n",
    "\n",
    "# Subplot 1: Plot correlation btwn predictions and Higgs mass\n",
    "plt.subplot(1, 1, 1)\n",
    "# Correlation btwn predictions and Higgs mass\n",
    "h2 = plt.plot_date(x_test[\"start_datetime\"][~(x_test.inXRootD) == 1].dt.date, preds_test[y_test == 1]);\n",
    "# Settings\n",
    "plt.xlabel(\"timestamp\");\n",
    "plt.ylabel(\"prediction\");"
   ]
  },
  {
   "cell_type": "code",
   "execution_count": 177,
   "metadata": {},
   "outputs": [],
   "source": [
    "# Write BDT model and test data to pickle file\n",
    "pickle.dump(bst, open(\"bdt.pkl\", \"wb\"))\n",
    "x_test.to_pickle(\"x_test.pkl\", compression=\"gzip\")\n",
    "# Write features to JSON\n",
    "with open(\"features.json\", \"w\") as fout:\n",
    "    json.dump(features, fout)"
   ]
  },
  {
   "cell_type": "code",
   "execution_count": 193,
   "metadata": {},
   "outputs": [
    {
     "data": {
      "text/plain": [
       "<matplotlib.axes._subplots.AxesSubplot at 0x7fcb762942e8>"
      ]
     },
     "execution_count": 193,
     "metadata": {},
     "output_type": "execute_result"
    },
    {
     "data": {
      "image/png": "[encoded data removed]",
      "text/plain": [
       "<Figure size 432x288 with 1 Axes>"
      ]
     },
     "metadata": {
      "needs_background": "light"
     },
     "output_type": "display_data"
    }
   ],
   "source": [
    "classAds_df[~classAds_df.inXRootD].read_segs.hist(bins=np.linspace(0,1e4,100))"
   ]
  },
  {
   "cell_type": "code",
   "execution_count": 194,
   "metadata": {},
   "outputs": [
    {
     "data": {
      "text/plain": [
       "<matplotlib.axes._subplots.AxesSubplot at 0x7fcbab9add68>"
      ]
     },
     "execution_count": 194,
     "metadata": {},
     "output_type": "execute_result"
    },
    {
     "data": {
      "image/png": "[encoded data removed]",
      "text/plain": [
       "<Figure size 432x288 with 1 Axes>"
      ]
     },
     "metadata": {
      "needs_background": "light"
     },
     "output_type": "display_data"
    }
   ],
   "source": [
    "classAds_df[classAds_df.inXRootD].read_segs.hist(bins=np.linspace(0,1e4,100))"
   ]
  },
  {
   "cell_type": "code",
   "execution_count": 196,
   "metadata": {},
   "outputs": [
    {
     "data": {
      "text/plain": [
       "['MINIAODSIM', 'MINIAOD']"
      ]
     },
     "execution_count": 196,
     "metadata": {},
     "output_type": "execute_result"
    }
   ],
   "source": [
    "lookups[\"primaryDataTier\"]"
   ]
  },
  {
   "cell_type": "code",
   "execution_count": 205,
   "metadata": {},
   "outputs": [
    {
     "data": {
      "text/plain": [
       "<matplotlib.axes._subplots.AxesSubplot at 0x7fcc048f36d8>"
      ]
     },
     "execution_count": 205,
     "metadata": {},
     "output_type": "execute_result"
    },
    {
     "data": {
      "image/png": "[encoded data removed]",
      "text/plain": [
       "<Figure size 432x288 with 1 Axes>"
      ]
     },
     "metadata": {
      "needs_background": "light"
     },
     "output_type": "display_data"
    }
   ],
   "source": [
    "classAds_df[~classAds_df.inXRootD].read_bytes.hist(bins=np.linspace(0,5e9+1,100))"
   ]
  },
  {
   "cell_type": "code",
   "execution_count": 206,
   "metadata": {},
   "outputs": [
    {
     "data": {
      "text/plain": [
       "<matplotlib.axes._subplots.AxesSubplot at 0x7fcb781efac8>"
      ]
     },
     "execution_count": 206,
     "metadata": {},
     "output_type": "execute_result"
    },
    {
     "data": {
      "image/png": "[encoded data removed]",
      "text/plain": [
       "<Figure size 432x288 with 1 Axes>"
      ]
     },
     "metadata": {
      "needs_background": "light"
     },
     "output_type": "display_data"
    }
   ],
   "source": [
    "classAds_df[classAds_df.inXRootD].read_bytes.hist(bins=np.linspace(0,5e9+1,100))"
   ]
  },
  {
   "cell_type": "code",
   "execution_count": 208,
   "metadata": {},
   "outputs": [],
   "source": [
    "# classAds_df.to_pickle(\"./pickle_jar/ClassAds_06-23to29-2019.pkl\")\n",
    "# xRootD_df.to_pickle(\"./pickle_jar/XRootD_06-01to30-2019.pkl\")\n",
    "import json\n",
    "with open(\"lookups.json\", \"w\") as fout:\n",
    "    json.dump(lookups, fout)"
   ]
  }
 ],
 "metadata": {
  "kernelspec": {
   "display_name": "tuda-bdt",
   "language": "python",
   "name": "tuda-bdt"
  },
  "language_info": {
   "codemirror_mode": {
    "name": "ipython",
    "version": 3
   },
   "file_extension": ".py",
   "mimetype": "text/x-python",
   "name": "python",
   "nbconvert_exporter": "python",
   "pygments_lexer": "ipython3",
   "version": "3.6.8"
  }
 },
 "nbformat": 4,
 "nbformat_minor": 2
}
