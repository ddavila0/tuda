{
 "cells": [
  {
   "cell_type": "code",
   "execution_count": 1,
   "metadata": {},
   "outputs": [],
   "source": [
    "from pyarrow import parquet as pq\n",
    "from matplotlib import pyplot as plt\n",
    "from datetime import datetime as dt\n",
    "from datetime import timezone\n",
    "from dateutil import parser\n",
    "from random import randint\n",
    "import pandas as pd\n",
    "import numpy as np"
   ]
  },
  {
   "cell_type": "markdown",
   "metadata": {},
   "source": [
    "# Sanity Checks: XRootD vs. ClassAds\n",
    "***"
   ]
  },
  {
   "cell_type": "markdown",
   "metadata": {},
   "source": [
    "## Get XRootD Dataset\n",
    "New Column Notes:\n",
    " - the `app_info` column from XRootD is formatted like: `[crab_id]_https://glidein.cern.ch/[workflow_idFront]:[workflow_idBack]`\n",
    " - we make the column `job_id` = `crab_id`/`workflow_id` so that we may simultaneously compare the two IDs for each job.\n",
    " \n",
    "Requirement Notes:\n",
    " - there is a filter that restricts the site to UCSD or CalTech in the HDFS fetching script\n",
    " - some jobs do not come from CRAB, so they have a null entry in the `crab_id` column and are promptly filtered out"
   ]
  },
  {
   "cell_type": "code",
   "execution_count": 2,
   "metadata": {},
   "outputs": [],
   "source": [
    "# Get parquet files\n",
    "dataset_xRootD = pq.ParquetDataset(\"parquet/XRootD_06-02-2019\")\n",
    "table_xRootD = dataset_xRootD.read()\n",
    "\n",
    "# Convert to pandas dataframe\n",
    "df_xRootD = table_xRootD.to_pandas()\n",
    "# Make some columns\n",
    "df_xRootD[\"crab_id\"] = df_xRootD.app_info.str.split('_').str.get(0)\n",
    "workflow_idFront = (df_xRootD.app_info.str.split('/').str[-1]\n",
    "                                      .str.split(':').str[:2]\n",
    "                                      .str.join('_')\n",
    "                   ) # Front half of workflow_id\n",
    "workflow_idBack = (df_xRootD.app_info.str.split('/').str[-1]\n",
    "                                     .str.split(':').str[2:]\n",
    "                                     .str.join('_')\n",
    "                  ) # Back half of workflow_id\n",
    "df_xRootD[\"workflow_id\"] = (workflow_idFront.map(str)+\":\"+workflow_idBack).str.replace(\"_[0-9]$\", \"\")\n",
    "df_xRootD[\"job_id\"] = df_xRootD.crab_id.map(str) + \"/\" + df_xRootD.workflow_id\n",
    "df_xRootD[\"start_datetime\"] = pd.to_datetime(df_xRootD.start_time, unit=\"ms\")\n",
    "\n",
    "# Require real crab jobs\n",
    "df_xRootD = df_xRootD[(~df_xRootD.crab_id.isna()) & (df_xRootD.job_id != \"/:\")]\n",
    "# Require only read jobs\n",
    "# df_xRootD = df_xRootD[df_xRootD.operation == \"read\"]\n",
    "# Require that job started on June 2nd\n",
    "date = parser.parse(\"Jun 2 00:00:00 UTC 2019\")\n",
    "df_xRootD = df_xRootD[df_xRootD.start_time/1e3 >= date.timestamp()]"
   ]
  },
  {
   "cell_type": "markdown",
   "metadata": {},
   "source": [
    "## Get ClassAds Dataset\n",
    "New Column Notes:\n",
    " - the `workflow_id` column from ClassAds as an extra component at the end that must be removed (i.e. `[workflow_id]_[0-9]`)\n",
    " - when we extract a timestamp from the pandas datetime object, the result is given in **nanoseconds**, so we must convert it immediately or remember to do it later (this is done for consistency with XRootD, since the `start_date` ClassAds column is already a timestamp)"
   ]
  },
  {
   "cell_type": "code",
   "execution_count": 3,
   "metadata": {},
   "outputs": [],
   "source": [
    "# Get parquet files\n",
    "dataset_classAds = pq.ParquetDataset(\"parquet/ClassAds_06-02-2019\")\n",
    "table_classAds = dataset_classAds.read()\n",
    "\n",
    "# Convert to pandas dataframe\n",
    "df_classAds = table_classAds.to_pandas()\n",
    "# Make some columns\n",
    "df_classAds[\"workflow_id\"] = df_classAds.workflow_id.str.replace(\"_[0-9]$\", \"\")\n",
    "df_classAds[\"job_id\"] = df_classAds.crab_id.map(str) + \"/\" + df_classAds.workflow_id\n",
    "df_classAds[\"start_datetime\"] = pd.to_datetime(df_classAds.start_date, unit=\"ms\") # 'start_date' column is a timestamp\n",
    "df_classAds[\"start_time\"] = df_classAds.start_datetime.dt.tz_localize('UTC').values.astype(np.int64) # in ns\n",
    "\n",
    "# Require at UCSD or CalTech exclusively\n",
    "df_classAds = df_classAds[df_classAds.site.isin([\"T2_US_UCSD\", \"T2_US_Caltech\"])]\n",
    "# Require real crab jobs\n",
    "df_classAds = df_classAds[(~df_classAds.crab_id.isna()) & (df_classAds.job_id != \"/\")]\n",
    "# Require that job started on June 2nd\n",
    "date = parser.parse(\"Jun 2 00:00:00 UTC 2019\")\n",
    "df_classAds = df_classAds[df_classAds.start_time/1e9 >= date.timestamp()]"
   ]
  },
  {
   "cell_type": "markdown",
   "metadata": {},
   "source": [
    "## Preliminary Checks"
   ]
  },
  {
   "cell_type": "markdown",
   "metadata": {},
   "source": [
    "#### Is everything happening on the right day?"
   ]
  },
  {
   "cell_type": "code",
   "execution_count": 4,
   "metadata": {},
   "outputs": [
    {
     "name": "stdout",
     "output_type": "stream",
     "text": [
      "2019-06-02 08:05:27+00:00\n",
      "2019-06-02 00:00:00+00:00\n"
     ]
    }
   ],
   "source": [
    "# Check that an arbitrarily-chosen start time is within June 2nd\n",
    "print(dt.fromtimestamp(df_classAds.start_time.values[0]/1e9, tz=timezone.utc))\n",
    "print(dt.fromtimestamp(date.timestamp(), tz=timezone.utc))"
   ]
  },
  {
   "cell_type": "code",
   "execution_count": 5,
   "metadata": {},
   "outputs": [
    {
     "data": {
      "text/plain": [
       "2019-06-02    50102\n",
       "Name: start_datetime, dtype: int64"
      ]
     },
     "execution_count": 5,
     "metadata": {},
     "output_type": "execute_result"
    }
   ],
   "source": [
    "# Check that all start times for XRootD are on June 2nd\n",
    "df_xRootD.start_datetime.dt.tz_localize('UTC').dt.date.value_counts()"
   ]
  },
  {
   "cell_type": "code",
   "execution_count": 6,
   "metadata": {},
   "outputs": [
    {
     "data": {
      "text/plain": [
       "2019-06-02    25435\n",
       "Name: start_datetime, dtype: int64"
      ]
     },
     "execution_count": 6,
     "metadata": {},
     "output_type": "execute_result"
    }
   ],
   "source": [
    "# Check that all start times for ClassAds are on June 2nd\n",
    "df_classAds.start_datetime.dt.tz_localize('UTC').dt.date.value_counts()"
   ]
  },
  {
   "cell_type": "markdown",
   "metadata": {},
   "source": [
    "#### How many unique job IDs are there?"
   ]
  },
  {
   "cell_type": "code",
   "execution_count": 7,
   "metadata": {},
   "outputs": [
    {
     "name": "stdout",
     "output_type": "stream",
     "text": [
      "35473 24182\n"
     ]
    }
   ],
   "source": [
    "# See how many unique job IDs are in XRootD and ClassAds respectively\n",
    "ids_xRootD = df_xRootD.job_id.unique()\n",
    "ids_classAds = df_classAds.job_id.unique()\n",
    "print(len(ids_xRootD), len(ids_classAds))"
   ]
  },
  {
   "cell_type": "markdown",
   "metadata": {},
   "source": [
    "## Coverage Checks"
   ]
  },
  {
   "cell_type": "markdown",
   "metadata": {},
   "source": [
    "#### How many ClassAds jobs _are_ recorded in XRootD?"
   ]
  },
  {
   "cell_type": "code",
   "execution_count": 8,
   "metadata": {},
   "outputs": [
    {
     "name": "stdout",
     "output_type": "stream",
     "text": [
      "93.29% of ClassAds jobs are recorded in XRootD\n"
     ]
    }
   ],
   "source": [
    "# Check coverage of ClassAds job IDs by XRootD\n",
    "df_classAds[\"in_xRootD\"] = df_classAds.job_id.isin(list(df_xRootD.job_id.to_numpy()))\n",
    "inOrOut_counts = df_classAds.in_xRootD.value_counts()\n",
    "print(\"{0:.2f}%\".format(inOrOut_counts[True]/(inOrOut_counts[True]+inOrOut_counts[False])*100),\n",
    "      \"of ClassAds jobs are recorded in XRootD\")"
   ]
  },
  {
   "cell_type": "code",
   "execution_count": 9,
   "metadata": {},
   "outputs": [
    {
     "name": "stdout",
     "output_type": "stream",
     "text": [
      "Is 2590/190602_063338:bianjg_crab_JpsiDMuon_v28h_test-Run2017D-31Mar2018-v1 in XRootD?\n"
     ]
    },
    {
     "data": {
      "text/plain": [
       "True"
      ]
     },
     "execution_count": 9,
     "metadata": {},
     "output_type": "execute_result"
    }
   ],
   "source": [
    "# Check if a random job ID from ClassAds is recorded in XRootD\n",
    "i = randint(0,len(df_classAds.job_id.values)-1)\n",
    "print(\"Is {} in XRootD?\".format(df_classAds.job_id.values[i]))\n",
    "df_classAds.job_id.values[i] in df_xRootD.job_id.values"
   ]
  },
  {
   "cell_type": "markdown",
   "metadata": {},
   "source": [
    "#### How many XRootD jobs _are_ recorded in ClassAds?"
   ]
  },
  {
   "cell_type": "code",
   "execution_count": 10,
   "metadata": {},
   "outputs": [
    {
     "name": "stdout",
     "output_type": "stream",
     "text": [
      "62.21% of XRootD jobs are recorded in ClassAds\n"
     ]
    }
   ],
   "source": [
    "# Check coverage of ClassAds job IDs by XRootD\n",
    "df_xRootD[\"in_classAds\"] = df_xRootD.job_id.isin(list(df_classAds.job_id.to_numpy()))\n",
    "inOrOut_counts1 = df_xRootD.in_classAds.value_counts()\n",
    "print(\"{0:.2f}%\".format(inOrOut_counts1[True]/(inOrOut_counts1[True]+inOrOut_counts1[False])*100),\n",
    "      \"of XRootD jobs are recorded in ClassAds\")"
   ]
  },
  {
   "cell_type": "code",
   "execution_count": 11,
   "metadata": {},
   "outputs": [
    {
     "name": "stdout",
     "output_type": "stream",
     "text": [
      "Is 207/190602_063338:bianjg_crab_JpsiDMuon_v28h_test-Run2017D-31Mar2018-v1 in ClassAds?\n"
     ]
    },
    {
     "data": {
      "text/plain": [
       "True"
      ]
     },
     "execution_count": 11,
     "metadata": {},
     "output_type": "execute_result"
    }
   ],
   "source": [
    "# Check if a random job ID from XRootD is recorded in ClassAds\n",
    "j = randint(0,len(df_xRootD.job_id.values)-1)\n",
    "print(\"Is {} in ClassAds?\".format(df_xRootD.job_id.values[j]))\n",
    "df_xRootD.job_id.values[j] in df_classAds.job_id.values"
   ]
  },
  {
   "cell_type": "markdown",
   "metadata": {},
   "source": [
    "#### Ok, so what about the ClassAds jobs that _aren't_ recorded in XRootD?"
   ]
  },
  {
   "cell_type": "code",
   "execution_count": 12,
   "metadata": {},
   "outputs": [
    {
     "data": {
      "text/plain": [
       "array(['crab3@vocms0195.cern.ch', 'crab3@vocms0196.cern.ch',\n",
       "       'crab3@vocms0120.cern.ch', 'crab3@vocms0137.cern.ch',\n",
       "       'crab3@vocms0197.cern.ch', 'crab3@vocms0119.cern.ch',\n",
       "       'crab3@vocms0107.cern.ch', 'crab3@vocms0144.cern.ch',\n",
       "       'crab3@vocms0198.cern.ch', 'crab3@vocms0121.cern.ch',\n",
       "       'crab3@vocms0155.cern.ch', 'crab3@vocms0194.cern.ch'], dtype=object)"
      ]
     },
     "execution_count": 12,
     "metadata": {},
     "output_type": "execute_result"
    }
   ],
   "source": [
    "# List unique schedd names\n",
    "df_classAds.schedd_name.unique()"
   ]
  },
  {
   "cell_type": "code",
   "execution_count": 13,
   "metadata": {},
   "outputs": [
    {
     "data": {
      "text/plain": [
       "crab3@vocms0121.cern.ch    551\n",
       "crab3@vocms0195.cern.ch    196\n",
       "crab3@vocms0107.cern.ch    185\n",
       "crab3@vocms0137.cern.ch    143\n",
       "crab3@vocms0119.cern.ch    129\n",
       "crab3@vocms0198.cern.ch    119\n",
       "crab3@vocms0196.cern.ch    106\n",
       "crab3@vocms0144.cern.ch     72\n",
       "crab3@vocms0155.cern.ch     68\n",
       "crab3@vocms0197.cern.ch     66\n",
       "crab3@vocms0194.cern.ch     41\n",
       "crab3@vocms0120.cern.ch     30\n",
       "Name: schedd_name, dtype: int64"
      ]
     },
     "execution_count": 13,
     "metadata": {},
     "output_type": "execute_result"
    }
   ],
   "source": [
    "# Count schedd names for jobs that AREN'T recorded in XRootD\n",
    "df_classAds[~df_classAds.in_xRootD].schedd_name.value_counts()"
   ]
  },
  {
   "cell_type": "code",
   "execution_count": 14,
   "metadata": {},
   "outputs": [
    {
     "data": {
      "text/plain": [
       "True     24579\n",
       "False      856\n",
       "Name: workflow_id, dtype: int64"
      ]
     },
     "execution_count": 14,
     "metadata": {},
     "output_type": "execute_result"
    }
   ],
   "source": [
    "# Get workflows of jobs NOT recorded in XRootD\n",
    "workflowsNotInXRootD = df_classAds[~df_classAds.in_xRootD].workflow_id.unique()\n",
    "# Count ClassAds in/not in same workflow as jobs that are NOT recoreded in XRootD\n",
    "df_classAds.workflow_id.isin(workflowsNotInXRootD).value_counts()"
   ]
  },
  {
   "cell_type": "code",
   "execution_count": 15,
   "metadata": {},
   "outputs": [
    {
     "data": {
      "text/plain": [
       "True     23729\n",
       "False     1706\n",
       "Name: in_xRootD, dtype: int64"
      ]
     },
     "execution_count": 15,
     "metadata": {},
     "output_type": "execute_result"
    }
   ],
   "source": [
    "# Show count of ClassAds IN and NOT IN XRootD records for later reference\n",
    "df_classAds.in_xRootD.value_counts()"
   ]
  },
  {
   "cell_type": "code",
   "execution_count": 16,
   "metadata": {},
   "outputs": [
    {
     "name": "stdout",
     "output_type": "stream",
     "text": [
      "96.39% of jobs that ARE recorded in XRootD share the same workflow as the jobs that ARE NOT recorded.\n"
     ]
    }
   ],
   "source": [
    "# Count(ClassAds in the same workflow as jobs NOT recorded in XRootD) recorded/not recorded in XRootD\n",
    "df_classAds_workflowsNotInXRootD = df_classAds[df_classAds.workflow_id.isin(workflowsNotInXRootD)]\n",
    "c = df_classAds_workflowsNotInXRootD.job_id.isin(list(df_xRootD.job_id.to_numpy())).value_counts()\n",
    "print(\"{0:.2f}%\".format(c[True]/df_classAds.in_xRootD.value_counts()[True]*100),\n",
    "      \"of jobs that ARE recorded in XRootD share the same workflow as the jobs that ARE NOT recorded.\")"
   ]
  },
  {
   "cell_type": "code",
   "execution_count": 17,
   "metadata": {},
   "outputs": [
    {
     "name": "stdout",
     "output_type": "stream",
     "text": [
      "134 unique workflows of jobs NOT recorded in XRootD\n",
      "\n",
      "True/False counts for the following statement: \n",
      "ANY job for a given, unique workflow is recorded in XRootD\n",
      "True     91\n",
      "False    43\n",
      "Name: in_xRootD, dtype: int64\n"
     ]
    },
    {
     "data": {
      "text/plain": [
       "workflow_id\n",
       "190520_203443:abdatta_crab_ttH_Analyzer_zjets_ll_mll_50_inf_NLO    False\n",
       "190520_204725:abdatta_crab_ttH_Analyzer_ttgjets                    False\n",
       "190524_211559:gmestdac_crab_MiniAOD2017v2-v1_2017-v1               False\n",
       "190524_212941:gmestdac_crab_MiniAOD2017v2-v1_2017-v1               False\n",
       "190525_003435:gmestdac_crab_MiniAOD2017v2-v1_2017-v1               False\n",
       "190531_102921:yuanc_crab_Data13TeV_SingleElectron2017B             False\n",
       "190531_103256:yuanc_crab_Data13TeV_SingleElectron2017C             False\n",
       "190531_103636:yuanc_crab_Data13TeV_SingleElectron2017D             False\n",
       "190531_104019:yuanc_crab_Data13TeV_SingleElectron2017E             False\n",
       "190531_104748:yuanc_crab_Data13TeV_SingleMuon2017B                 False\n",
       "190531_110237:yuanc_crab_Data13TeV_SingleMuon2017F                 False\n",
       "190531_114317:yuanc_crab_Data13TeV_DoubleMuon2017F                 False\n",
       "190531_120454:yuanc_crab_Data13TeV_DoubleEle2017C                  False\n",
       "190531_122929:yuanc_crab_Data13TeV_DoubleEle2017F                  False\n",
       "190531_125739:yuanc_crab_MC13TeV_ZZZ_2017                          False\n",
       "190531_130950:yuanc_crab_MC13TeV_WWW_4F_2017                       False\n",
       "190531_132536:yuanc_crab_MC13TeV_SingleT_tW_antitop_2017           False\n",
       "190531_132933:yuanc_crab_MC13TeV_SingleT_tW_top_2017               False\n",
       "190531_133344:yuanc_crab_MC13TeV_TTTo2L2Nu_powheg_2017             False\n",
       "190531_134155:yuanc_crab_MC13TeV_TTToHadronic_powheg_2017          False\n",
       "190531_134556:yuanc_crab_MC13TeV_TTTo2L2Nu_powheg_2017             False\n",
       "190531_135804:yuanc_crab_MC13TeV_TTTo2L2Nu_powheg_2017             False\n",
       "190531_140223:yuanc_crab_MC13TeV_TTToSemiLeptonic_powheg_2017      False\n",
       "190531_141100:yuanc_crab_MC13TeV_TTGJets_2017_ext1                 False\n",
       "190531_142352:yuanc_crab_MC13TeV_TTWJetslnu_2017                   False\n",
       "190531_144039:yuanc_crab_MC13TeV_DY1JetsToLL_M50_2017_ext1         False\n",
       "190531_150324:yuanc_crab_MC13TeV_DYJetsToLL_M50_2017               False\n",
       "190531_151109:yuanc_crab_MC13TeV_WJets_2017_ext1                   False\n",
       "190531_151457:yuanc_crab_MC13TeV_WJets_2017                        False\n",
       "190531_152231:yuanc_crab_MC13TeV_W2Jets_2017                       False\n",
       "190531_152955:yuanc_crab_MC13TeV_W4Jets_2017                       False\n",
       "190531_153340:yuanc_crab_MC13TeV_QCD_Pt80To120_EMEnr_2017          False\n",
       "190531_154449:yuanc_crab_MC13TeV_QCD_Pt15to20_MuEnrPt5_2017        False\n",
       "190531_154828:yuanc_crab_MC13TeV_QCD_Pt20to30_MuEnrPt5_2017        False\n",
       "190531_155924:yuanc_crab_MC13TeV_QCD_Pt80to120_MuEnrPt5_2017       False\n",
       "190531_160310:yuanc_crab_MC13TeV_QCD_Pt120to170_MuEnrPt5_2017      False\n",
       "190531_160701:yuanc_crab_MC13TeV_QCD_Pt170to300_MuEnrPt5_2017      False\n",
       "190531_161434:yuanc_crab_MC13TeV_QCD_Pt470to600_MuEnrPt5_2017      False\n",
       "190531_162209:yuanc_crab_MC13TeV_QCD_Pt_30to80_bcToE_2017          False\n",
       "190531_162558:yuanc_crab_MC13TeV_QCD_Pt_80to170_bcToE_2017         False\n",
       "190531_163023:yuanc_crab_MC13TeV_QCD_Pt_170to250_bcToE_2017        False\n",
       "190531_191044:yuanc_crab_MC13TeV_WplusH_HToBB_WToLNu_2017          False\n",
       "190602_122446:chench_crab_M4000_R0-08                              False\n",
       "Name: in_xRootD, dtype: bool"
      ]
     },
     "execution_count": 17,
     "metadata": {},
     "output_type": "execute_result"
    }
   ],
   "source": [
    "print(workflowsNotInXRootD.shape[0], \"unique workflows of jobs NOT recorded in XRootD\\n\")\n",
    "\n",
    "# Group classAds by workflow, check if workflow contains ANY jobs recorded in XRootD\n",
    "byWorkflow_classAds_anyJobInXRootD = df_classAds_workflowsNotInXRootD.groupby(\"workflow_id\")[\"in_xRootD\"].any()\n",
    "print(\"True/False counts for the following statement:\",\n",
    "      \"\\nANY job for a given, unique workflow is recorded in XRootD\")\n",
    "print(byWorkflow_classAds_anyJobInXRootD.value_counts())\n",
    "\n",
    "# Show workflows that have no jobs in XRootD\n",
    "byWorkflow_classAds_anyJobInXRootD[byWorkflow_classAds_anyJobInXRootD.values == False]"
   ]
  },
  {
   "cell_type": "code",
   "execution_count": 18,
   "metadata": {},
   "outputs": [
    {
     "name": "stdout",
     "output_type": "stream",
     "text": [
      "ClassAds IN XRootD:\n",
      "17/190525_003645:gmestdac_crab_MiniAOD2017v2-v1_2017-v1\n",
      "152/190525_003645:gmestdac_crab_MiniAOD2017v2-v1_2017-v1\n",
      "114/190525_003645:gmestdac_crab_MiniAOD2017v2-v1_2017-v1\n",
      "ClassAds NOT IN XRootD:\n",
      "120/190525_003645:gmestdac_crab_MiniAOD2017v2-v1_2017-v1\n"
     ]
    }
   ],
   "source": [
    "# Get a random workflow that has some jobs recorded, some not recorded in XRootD\n",
    "k = randint(0, byWorkflow_classAds_anyJobInXRootD.value_counts()[True]-1)\n",
    "r = byWorkflow_classAds_anyJobInXRootD[byWorkflow_classAds_anyJobInXRootD.values == True].keys()[k]\n",
    "\n",
    "# Boolean for entries that do/do not match the above random workflow\n",
    "w = (df_classAds.workflow_id == r)\n",
    "print(\"ClassAds IN XRootD:\\n{}\".format(\"\\n\".join(list(df_classAds[w & (df_classAds.in_xRootD)].job_id.unique()))))\n",
    "print(\"ClassAds NOT IN XRootD:\\n{}\".format(\"\\n\".join(list(df_classAds[w & (~df_classAds.in_xRootD)].job_id.unique()))))"
   ]
  },
  {
   "cell_type": "code",
   "execution_count": 19,
   "metadata": {},
   "outputs": [
    {
     "data": {
      "text/plain": [
       "'635/190520_203443:abdatta_crab_ttH_Analyzer_zjets_ll_mll_50_inf_NLO'"
      ]
     },
     "execution_count": 19,
     "metadata": {},
     "output_type": "execute_result"
    }
   ],
   "source": [
    "# Get the job ID (crab_id/workflow_id) of a random ClassAds job that is NOT recored in XRootD\n",
    "l = randint(0,len(df_classAds[~df_classAds.in_xRootD].job_id.values)-1)\n",
    "df_classAds[~df_classAds.in_xRootD].job_id.values[l]"
   ]
  },
  {
   "cell_type": "markdown",
   "metadata": {},
   "source": [
    "#### .. and the XRootD jobs that _aren't_ recorded in ClassAds?"
   ]
  },
  {
   "cell_type": "code",
   "execution_count": 20,
   "metadata": {},
   "outputs": [
    {
     "data": {
      "text/plain": [
       "'3911/190515_095853:rasharma_crab_SingleMuon_Run2017F-31Mar2018-v1'"
      ]
     },
     "execution_count": 20,
     "metadata": {},
     "output_type": "execute_result"
    }
   ],
   "source": [
    "# Get the job ID (crab_id/workflow_id) of a random XRootD job that is NOT recored in ClassAds\n",
    "l = randint(0,len(df_xRootD[~df_xRootD.in_classAds].job_id.values)-1)\n",
    "df_xRootD[~df_xRootD.in_classAds].job_id.values[l]"
   ]
  }
 ],
 "metadata": {
  "kernelspec": {
   "display_name": "data-access",
   "language": "python",
   "name": "data-access"
  },
  "language_info": {
   "codemirror_mode": {
    "name": "ipython",
    "version": 3
   },
   "file_extension": ".py",
   "mimetype": "text/x-python",
   "name": "python",
   "nbconvert_exporter": "python",
   "pygments_lexer": "ipython3",
   "version": "3.6.8"
  }
 },
 "nbformat": 4,
 "nbformat_minor": 2
}
