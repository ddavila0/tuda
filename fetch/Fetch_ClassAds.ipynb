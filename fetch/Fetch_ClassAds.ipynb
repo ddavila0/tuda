{
 "cells": [
  {
   "cell_type": "code",
   "execution_count": 7,
   "metadata": {},
   "outputs": [],
   "source": [
    "\"\"\"Retrieve classAds job information using Spark\"\"\"\n",
    "\n",
    "from __future__ import print_function\n",
    "\n",
    "from subprocess import Popen, PIPE, STDOUT\n",
    "from pyspark.sql import Column\n",
    "from pyspark.sql.functions import col\n",
    "import pyspark.sql.functions as fn\n",
    "import pyspark.sql.types as types\n",
    "import schemas"
   ]
  },
  {
   "cell_type": "code",
   "execution_count": 8,
   "metadata": {},
   "outputs": [],
   "source": [
    "csvreader = spark.read.format(\"com.databricks.spark.csv\").option(\"nullValue\",\"null\").option(\"mode\", \"FAILFAST\")\n",
    "\n",
    "# Path where the input files are\n",
    "basepath=\"/project/awg/cms/CMS_DBS3_PROD_GLOBAL/current\"\n",
    "\n",
    "# Get the information about Blocks so that we can map the block name of the job to the block id \n",
    "dbs_datasets = csvreader.schema(schemas.schema_datasets()).load(basepath+\"/DATASETS\")"
   ]
  },
  {
   "cell_type": "code",
   "execution_count": 9,
   "metadata": {},
   "outputs": [],
   "source": [
    "# dbs_datasets.printSchema()"
   ]
  },
  {
   "cell_type": "code",
   "execution_count": 10,
   "metadata": {},
   "outputs": [],
   "source": [
    "data_tiers_list=[\"MINIAOD\",\"MINIAODSIM\",\"NANOAOD\",\"NANOAODSIM\",\"AOD\",\"AODSIM\",\"RAW\",\"GEN-SIM\",\"USER\"]\n",
    "\n",
    "inputfile=\"/project/monitoring/archive/condor/raw/metric/2019/06/02/*.json.gz\"\n",
    "\n",
    "jobreports = spark.read.json(inputfile)"
   ]
  },
  {
   "cell_type": "code",
   "execution_count": 11,
   "metadata": {},
   "outputs": [],
   "source": [
    "# The following regexps describe what is in the cache\n",
    "regexp1=\"/*/Run2016.*-03Feb2017.*/MINIAOD\"\n",
    "regexp2=\"/*/RunIISummer16MiniAODv2-PUMoriond17_80X_.*/MINIAODSIM\"\n",
    "regexp3=\"/*/.*-31Mar2018.*/MINIAOD\"\n",
    "regexp4=\"/*/.*RunIIFall17MiniAODv2.*/MINIAODSIM\"\n",
    "\n",
    "# Desired sites\n",
    "sites = [\"T2_US_UCSD\", \"T2_US_Caltech\", \"T3_US_UCR\"]\n",
    "\n",
    "ds = (jobreports\n",
    "        # Joing dataset DBS table with jobreports\n",
    "        .join(dbs_datasets, col('data.DESIRED_CMSDataset')==col('d_dataset'))\n",
    "        # Require datasets from cache\n",
    "        .filter(\n",
    "                col('d_dataset').rlike(regexp1) |\n",
    "                col('d_dataset').rlike(regexp2) | \n",
    "                col('d_dataset').rlike(regexp3) | \n",
    "                col('d_dataset').rlike(regexp4)\n",
    "               )\n",
    "        # Require at UCSD, Caltech, or UCR\n",
    "        .filter(col('data.CMSSite').isin(sites))\n",
    "        # Require CMS jobs\n",
    "        .filter(col('data.VO') == \"cms\")\n",
    "        # Require analysis jobs\n",
    "        .filter(col('data.Type') == 'analysis')\n",
    "        # Require completed jobs\n",
    "        .filter(col('data.Status') == 'Completed')\n",
    "        # There are other utility CRAB jobs we don't want to read \n",
    "        .filter(col('data.JobUniverse') == 5)\n",
    "        # Select columns to save\n",
    "        .select(\n",
    "               col('data.CMSSite').alias('site'),\n",
    "               col('data.DESIRED_CMSDataset').alias('dataset'),\n",
    "               col('data.CRAB_Workflow').alias('workflow_id'),\n",
    "               col('data.CRAB_Id').alias('crab_id'),\n",
    "               col('data.JobStartDate').alias('start_date'),\n",
    "               col('data.ScheddName').alias('schedd_name')\n",
    "               )\n",
    "    )"
   ]
  },
  {
   "cell_type": "code",
   "execution_count": 13,
   "metadata": {
    "scrolled": true
   },
   "outputs": [],
   "source": [
    "(ds.write\n",
    "   .option(\"compression\",\"gzip\")\n",
    "   .mode(\"overwrite\")\n",
    "   .parquet(\"hdfs://analytix/user/jguiang/shared/ClassAds_06-02-2019\")\n",
    ")"
   ]
  },
  {
   "cell_type": "code",
   "execution_count": 14,
   "metadata": {},
   "outputs": [
    {
     "name": "stdout",
     "output_type": "stream",
     "text": [
      "\n"
     ]
    }
   ],
   "source": [
    "# Move from hdfs to eos\n",
    "p = Popen(\"hdfs dfs -get /user/jguiang/shared/ClassAds_06-02-2019 /eos/user/j/jguiang/data-access/parquet/\",\n",
    "          shell=True, stdin=PIPE, stdout=PIPE, stderr=STDOUT, close_fds=True)\n",
    "\n",
    "print (p.stdout.read())"
   ]
  }
 ],
 "metadata": {
  "kernelspec": {
   "display_name": "Python 2",
   "language": "python",
   "name": "python2"
  },
  "language_info": {
   "codemirror_mode": {
    "name": "ipython",
    "version": 2
   },
   "file_extension": ".py",
   "mimetype": "text/x-python",
   "name": "python",
   "nbconvert_exporter": "python",
   "pygments_lexer": "ipython2",
   "version": "2.7.15"
  },
  "sparkconnect": {
   "bundled_options": [],
   "list_of_options": []
  }
 },
 "nbformat": 4,
 "nbformat_minor": 2
}
