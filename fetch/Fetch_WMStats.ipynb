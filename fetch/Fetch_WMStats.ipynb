{
 "cells": [
  {
   "cell_type": "code",
   "execution_count": 1,
   "metadata": {},
   "outputs": [],
   "source": [
    "\"\"\"Retrieve classAds job information using Spark\"\"\"\n",
    "\n",
    "from __future__ import print_function\n",
    "\n",
    "from subprocess import Popen, PIPE, STDOUT\n",
    "from pyspark.sql import Column\n",
    "from pyspark.sql.functions import col\n",
    "import pyspark.sql.functions as fn\n",
    "import pyspark.sql.types as types\n",
    "import schemas"
   ]
  },
  {
   "cell_type": "code",
   "execution_count": 2,
   "metadata": {},
   "outputs": [],
   "source": [
    "csvreader = spark.read.format(\"com.databricks.spark.csv\").option(\"nullValue\",\"null\").option(\"mode\", \"FAILFAST\")\n",
    "\n",
    "# Path where the input files are\n",
    "basepath=\"/project/awg/cms/CMS_DBS3_PROD_GLOBAL/current\"\n",
    "\n",
    "# DBS tables\n",
    "dbs_files = csvreader.schema(schemas.schema_files()).load(basepath+\"/FILES\")\n",
    "dbs_blocks = csvreader.schema(schemas.schema_blocks()).load(basepath+\"/BLOCKS\")\n",
    "dbs_datasets = csvreader.schema(schemas.schema_datasets()).load(basepath+\"/DATASETS\")"
   ]
  },
  {
   "cell_type": "code",
   "execution_count": 3,
   "metadata": {},
   "outputs": [],
   "source": [
    "# Get job reports\n",
    "inputfile = \"/cms/wmarchive/avro/crab/2019/06/02/*.avro\"\n",
    "jobreports = spark.read.format(\"avro\").load(inputfile)"
   ]
  },
  {
   "cell_type": "code",
   "execution_count": 4,
   "metadata": {
    "scrolled": false
   },
   "outputs": [],
   "source": [
    "# jobreports.printSchema()"
   ]
  },
  {
   "cell_type": "code",
   "execution_count": 5,
   "metadata": {},
   "outputs": [],
   "source": [
    "# The following regexps describe what is in the cache\n",
    "regexp1=\"/*/Run2016.*-03Feb2017.*/MINIAOD\"\n",
    "regexp2=\"/*/RunIISummer16MiniAODv2-PUMoriond17_80X_.*/MINIAODSIM\"\n",
    "regexp3=\"/*/.*-31Mar2018.*/MINIAOD\"\n",
    "regexp4=\"/*/.*RunIIFall17MiniAODv2.*/MINIAODSIM\"\n",
    "\n",
    "# Get dataset\n",
    "ds = (jobreports\n",
    "        .select(fn.explode('LFNArray').alias(\"lfn\"),\"*\")\n",
    "        .join(dbs_files, col('f_logical_file_name')==col('lfn'))\n",
    "        .join(dbs_blocks, col('f_block_id')==col('b_block_id'))\n",
    "        .join(dbs_datasets, col('d_dataset_id')==col('b_dataset_id'))\n",
    "        .filter(\n",
    "                col('d_dataset').rlike(regexp1) |\n",
    "                col('d_dataset').rlike(regexp2) | \n",
    "                col('d_dataset').rlike(regexp3) | \n",
    "                col('d_dataset').rlike(regexp4)\n",
    "               )\n",
    "        # Select columns to save\n",
    "        .select(\n",
    "               col('task').alias('workflow_id'),\n",
    "               col('meta_data.crab_id').alias('crab_id'),\n",
    "               col('d_dataset').alias('dataset')\n",
    "               )\n",
    "    )"
   ]
  },
  {
   "cell_type": "code",
   "execution_count": 6,
   "metadata": {},
   "outputs": [],
   "source": [
    "# ds.show(10, False)"
   ]
  },
  {
   "cell_type": "code",
   "execution_count": 7,
   "metadata": {
    "scrolled": true
   },
   "outputs": [],
   "source": [
    "(ds.write\n",
    "   .option(\"compression\",\"gzip\")\n",
    "   .mode(\"overwrite\")\n",
    "   .parquet(\"hdfs://analytix/user/jguiang/shared/WMStats_06-02-2019\")\n",
    ")"
   ]
  },
  {
   "cell_type": "code",
   "execution_count": 8,
   "metadata": {},
   "outputs": [
    {
     "name": "stdout",
     "output_type": "stream",
     "text": [
      "\n"
     ]
    }
   ],
   "source": [
    "# Move from hdfs to eos\n",
    "p = Popen(\"hdfs dfs -get /user/jguiang/shared/WMStats_06-02-2019 /eos/user/j/jguiang/data-access/parquet/\",\n",
    "          shell=True, stdin=PIPE, stdout=PIPE, stderr=STDOUT, close_fds=True)\n",
    "\n",
    "print (p.stdout.read())"
   ]
  }
 ],
 "metadata": {
  "kernelspec": {
   "display_name": "Python 2",
   "language": "python",
   "name": "python2"
  },
  "language_info": {
   "codemirror_mode": {
    "name": "ipython",
    "version": 2
   },
   "file_extension": ".py",
   "mimetype": "text/x-python",
   "name": "python",
   "nbconvert_exporter": "python",
   "pygments_lexer": "ipython2",
   "version": "2.7.15"
  },
  "sparkconnect": {
   "bundled_options": [],
   "list_of_options": [
    {
     "name": "spark.jars.packages",
     "value": "org.apache.spark:spark-avro_2.11:2.4.0"
    },
    {
     "name": "spark.jars",
     "value": "/eos/project/s/swan/public/CMSSpark/avro-mapred.jar,/eos/project/s/swan/public/CMSSpark/spark-csv-assembly-1.4.0.jar,/eos/project/s/swan/public/CMSSpark/spark-examples-1.6.0-cdh5.7.6-hadoop2.6.0-cdh5.7.6.jar"
    }
   ]
  }
 },
 "nbformat": 4,
 "nbformat_minor": 2
}
