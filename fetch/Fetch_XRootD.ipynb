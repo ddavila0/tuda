{
 "cells": [
  {
   "cell_type": "code",
   "execution_count": 12,
   "metadata": {},
   "outputs": [],
   "source": [
    "\"\"\"Retrieve classAds job information using Spark\"\"\"\n",
    "\n",
    "from __future__ import print_function\n",
    "\n",
    "from subprocess import Popen, PIPE, STDOUT\n",
    "from pyspark.sql import Column\n",
    "from pyspark.sql.functions import col\n",
    "import pyspark.sql.functions as fn\n",
    "import pyspark.sql.types as types\n",
    "import schemas"
   ]
  },
  {
   "cell_type": "code",
   "execution_count": 13,
   "metadata": {},
   "outputs": [],
   "source": [
    "# Define servers that confirm cache is at UCSD or CalTech\n",
    "servers = [\"xrd-cache-1\", \"xrd-cache-2\", \"xcache-00\", \"xcache-01\", \"xcache-02\", \"xcache-03\", \"xcache-04\",\n",
    "           \"xcache-05\", \"xcache-06\", \"xcache-07\", \"xcache-08\", \"xcache-09\", \"xcache-10\"]\n",
    "# Get job reports\n",
    "inputfile = \"/project/monitoring/archive/xrootd/raw/gled/2019/06/02/*.json.gz\"\n",
    "jobreports = spark.read.json(inputfile)"
   ]
  },
  {
   "cell_type": "code",
   "execution_count": 14,
   "metadata": {},
   "outputs": [],
   "source": [
    "# Get dataset\n",
    "ds = (jobreports\n",
    "        # Require that server is in defined set\n",
    "        .filter(col('data.server_host').isin(servers))\n",
    "        # Require only CMS jobs\n",
    "        .filter(col('data.vo') == \"cms\")\n",
    "        # Select columns to save\n",
    "        .select(\n",
    "               col('data.operation').alias('operation'),\n",
    "               col('data.app_info').alias('app_info'),\n",
    "               col('data.file_lfn').alias('file_name'),\n",
    "               col('data.server_host').alias('server_host'),\n",
    "               col('data.client_host').alias('client_host'),\n",
    "               col('data.client_domain').alias('client_domain'),\n",
    "               col('data.start_time').alias('start_time')\n",
    "               )\n",
    "    )"
   ]
  },
  {
   "cell_type": "code",
   "execution_count": 15,
   "metadata": {},
   "outputs": [
    {
     "name": "stdout",
     "output_type": "stream",
     "text": [
      "\n"
     ]
    }
   ],
   "source": [
    "# Move from hdfs to eos\n",
    "p = Popen(\"hdfs dfs -get /user/jguiang/shared/XRootD_06-02-2019 /eos/user/j/jguiang/data-access/parquet/\",\n",
    "          shell=True, stdin=PIPE, stdout=PIPE, stderr=STDOUT, close_fds=True)\n",
    "\n",
    "print (p.stdout.read())"
   ]
  }
 ],
 "metadata": {
  "kernelspec": {
   "display_name": "Python 2",
   "language": "python",
   "name": "python2"
  },
  "language_info": {
   "codemirror_mode": {
    "name": "ipython",
    "version": 2
   },
   "file_extension": ".py",
   "mimetype": "text/x-python",
   "name": "python",
   "nbconvert_exporter": "python",
   "pygments_lexer": "ipython2",
   "version": "2.7.15"
  },
  "sparkconnect": {
   "bundled_options": [],
   "list_of_options": []
  }
 },
 "nbformat": 4,
 "nbformat_minor": 2
}
