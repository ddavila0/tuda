{
 "cells": [
  {
   "cell_type": "code",
   "execution_count": 1,
   "metadata": {},
   "outputs": [],
   "source": [
    "from pyarrow import parquet as pq\n",
    "from matplotlib import pyplot as plt\n",
    "from datetime import datetime as dt\n",
    "import pandas as pd\n",
    "import numpy as np"
   ]
  },
  {
   "cell_type": "markdown",
   "metadata": {},
   "source": [
    "## Data"
   ]
  },
  {
   "cell_type": "code",
   "execution_count": 2,
   "metadata": {},
   "outputs": [],
   "source": [
    "# Get parquet files\n",
    "dataset = pq.ParquetDataset(\"parquet/ClassAds_06-23to29-2019\")\n",
    "table = dataset.read()\n",
    "\n",
    "# Convert to pandas dataframe\n",
    "df = table.to_pandas()\n",
    "# Make some columns\n",
    "df[\"workflow_id\"] = df.workflow_id.map(str)+\"_\"+df.retries.astype(str)\n",
    "df[\"job_id\"] = df.crab_id.map(str)+\"/\"+df.workflow_id\n",
    "df[\"start_datetime\"] = pd.to_datetime(df.start_time, unit=\"ms\")"
   ]
  },
  {
   "cell_type": "code",
   "execution_count": 3,
   "metadata": {},
   "outputs": [
    {
     "data": {
      "text/plain": [
       "Index(['site', 'dataset', 'workflow_id', 'crab_id', 'retries', 'start_time',\n",
       "       'schedd_name', 'primaryDataset_primary', 'primaryDataset_processed',\n",
       "       'primaryDataTier', 'task', 'user_hn', 'walltime', 'cpuTime', 'exitCode',\n",
       "       'cpus', 'read_bytes', 'read_ops', 'read_segs', 'read_time', 'read_vops',\n",
       "       'write_bytes', 'write_time', 'job_id', 'start_datetime'],\n",
       "      dtype='object')"
      ]
     },
     "execution_count": 3,
     "metadata": {},
     "output_type": "execute_result"
    }
   ],
   "source": [
    "df.columns"
   ]
  },
  {
   "cell_type": "markdown",
   "metadata": {},
   "source": [
    "## Definitions\n",
    "$J \\rightarrow$ a job\n",
    "<br/><br/>\n",
    "$W(J) =$ total walltime for a job $J$\n",
    "<br/>\n",
    "$C(J) =$ total CPU time for a job $J$"
   ]
  },
  {
   "cell_type": "markdown",
   "metadata": {},
   "source": [
    "## Number of Unique Jobs"
   ]
  },
  {
   "cell_type": "code",
   "execution_count": 23,
   "metadata": {},
   "outputs": [
    {
     "name": "stdout",
     "output_type": "stream",
     "text": [
      "Number of Unique Jobs: 118669\n"
     ]
    }
   ],
   "source": [
    "N_jobs = df.job_id.nunique()\n",
    "print(\"Number of Unique Jobs: {}\".format(N_jobs))"
   ]
  },
  {
   "cell_type": "markdown",
   "metadata": {},
   "source": [
    "## Number of Unique Users"
   ]
  },
  {
   "cell_type": "code",
   "execution_count": 6,
   "metadata": {},
   "outputs": [
    {
     "name": "stdout",
     "output_type": "stream",
     "text": [
      "Number of Unique Users: 95\n"
     ]
    }
   ],
   "source": [
    "N_unique_users = df.user_hn.nunique()\n",
    "print(\"Number of Unique Users: {}\".format(N_unique_users))"
   ]
  },
  {
   "cell_type": "markdown",
   "metadata": {},
   "source": [
    "## Total Walltime\n",
    "$$W_{tot} = \\sum_i W(J_i)$$"
   ]
  },
  {
   "cell_type": "code",
   "execution_count": 11,
   "metadata": {},
   "outputs": [
    {
     "name": "stdout",
     "output_type": "stream",
     "text": [
      "Total Walltime: 376396.30\n"
     ]
    }
   ],
   "source": [
    "total_walltime = df.walltime.sum()\n",
    "print(\"Total Walltime: {0:.2f}\".format(total_walltime))"
   ]
  },
  {
   "cell_type": "markdown",
   "metadata": {},
   "source": [
    "## Total CPU Time\n",
    "$$C_{tot} = \\sum_i C(J_i)$$"
   ]
  },
  {
   "cell_type": "code",
   "execution_count": 14,
   "metadata": {},
   "outputs": [
    {
     "name": "stdout",
     "output_type": "stream",
     "text": [
      "Total CPU Time: 299695.74\n"
     ]
    }
   ],
   "source": [
    "total_cpu_time = df.cpuTime.sum()\n",
    "print(\"Total CPU Time: {0:.2f}\".format(total_cpu_time))"
   ]
  },
  {
   "cell_type": "markdown",
   "metadata": {},
   "source": [
    "## CPU Efficiency\n",
    "$$\\epsilon = \\frac{C_{tot}}{\\sum_i W(J_i) \\times N_{cores}(J_i)}$$"
   ]
  },
  {
   "cell_type": "code",
   "execution_count": 37,
   "metadata": {},
   "outputs": [
    {
     "name": "stdout",
     "output_type": "stream",
     "text": [
      "CPU Efficiency: 2.39\n"
     ]
    }
   ],
   "source": [
    "cpu_eff_numer = (df.walltime*df.cpus).sum()\n",
    "cpu_eff_denom = (df.cpuTime).sum()\n",
    "\n",
    "cpu_eff = cpu_eff_numer/cpu_eff_denom\n",
    "print(\"CPU Efficiency: {0:.2f}\".format(cpu_eff))"
   ]
  },
  {
   "cell_type": "markdown",
   "metadata": {},
   "source": [
    "## Fraction of Jobs with Exit Code 0"
   ]
  },
  {
   "cell_type": "code",
   "execution_count": 22,
   "metadata": {},
   "outputs": [
    {
     "name": "stdout",
     "output_type": "stream",
     "text": [
      "Fraction of Jobs with Exit Code 0: 0.83\n"
     ]
    }
   ],
   "source": [
    "exit_code_frac = np.sum(df.exitCode == 0)/df.shape[0]\n",
    "print(\"Fraction of Jobs with Exit Code 0: {0:.2f}\".format(exit_code_frac))"
   ]
  }
 ],
 "metadata": {
  "kernelspec": {
   "display_name": "data-access",
   "language": "python",
   "name": "data-access"
  },
  "language_info": {
   "codemirror_mode": {
    "name": "ipython",
    "version": 3
   },
   "file_extension": ".py",
   "mimetype": "text/x-python",
   "name": "python",
   "nbconvert_exporter": "python",
   "pygments_lexer": "ipython3",
   "version": "3.6.8"
  }
 },
 "nbformat": 4,
 "nbformat_minor": 2
}
